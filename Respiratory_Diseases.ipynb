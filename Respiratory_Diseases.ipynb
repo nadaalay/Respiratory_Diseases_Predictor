{
 "cells": [
  {
   "cell_type": "markdown",
   "metadata": {},
   "source": [
    "# Overview\n",
    "\n",
    "The aim of this project is to build a model that predicts and diagnoses chronic inflammatory respiratory diseases. The model classifies the patient into one of a four classes: Chronic Obstructive Pulmonary Disease (COPD), asthma, infected, and Healthy Controls (HC). The used dataset to build the model is Exasens dataset and it is downloaded from [UCI ML](https://archive.ics.uci.edu/ml/datasets/Exasens#)\n",
    "The Exasens dataset includes demographic information on four groups of saliva samples (COPD-Asthma-Infected-HC) collected in the frame of a joint research project at the Research Center Borstel, BioMaterialBank Nord (Borstel, Germany). A permittivity biosensor, developed at IHP Microelectronics (Frankfurt Oder, Germany), was used for the dielectric characterization of the saliva samples for classification purposes [[1]](https://www.mdpi.com/2227-9032/7/1/11).\n",
    "\n",
    "Definition of four sample groups included within the Exasens dataset:\n",
    "1. Outpatients and hospitalized patients with COPD without acute respiratory infection (COPD).\n",
    "2. Outpatients and hospitalized patients with asthma without acute respiratory infections (Asthma).\n",
    "3. Patients with respiratory infections, but without COPD or asthma (Infected).\n",
    "4. Healthy controls without COPD, asthma, or any respiratory infection (HC).\n",
    "\n",
    "The dataset contains 7 attributes:\n",
    "\n",
    "1. Diagnosis (COPD-HC-Asthma-Infected)\n",
    "2. ID\n",
    "3. Age\n",
    "4. Gender (1=male, 0=female)\n",
    "5. Smoking Status (1=Non-smoker, 2=Ex-smoker, 3=Active-smoker)\n",
    "6. Saliva Permittivity - Imaginary part (Min(Î”)=Absolute minimum value, Avg.(Î”)=Average)\n",
    "7. Saliva Permittivity -  Real part (Min(Î”)=Absolute minimum value, Avg.(Î”)=Average)\n"
   ]
  },
  {
   "cell_type": "markdown",
   "metadata": {},
   "source": [
    "## Clean Data"
   ]
  },
  {
   "cell_type": "code",
   "execution_count": 1,
   "metadata": {},
   "outputs": [],
   "source": [
    "# import libraries\n",
    "import numpy as np\n",
    "import pandas as pd\n",
    "from sklearn.model_selection import train_test_split\n",
    "from sklearn.ensemble import GradientBoostingClassifier\n",
    "from sklearn.metrics import confusion_matrix, classification_report"
   ]
  },
  {
   "cell_type": "code",
   "execution_count": 2,
   "metadata": {},
   "outputs": [
    {
     "data": {
      "text/html": [
       "<div>\n",
       "<style scoped>\n",
       "    .dataframe tbody tr th:only-of-type {\n",
       "        vertical-align: middle;\n",
       "    }\n",
       "\n",
       "    .dataframe tbody tr th {\n",
       "        vertical-align: top;\n",
       "    }\n",
       "\n",
       "    .dataframe thead th {\n",
       "        text-align: right;\n",
       "    }\n",
       "</style>\n",
       "<table border=\"1\" class=\"dataframe\">\n",
       "  <thead>\n",
       "    <tr style=\"text-align: right;\">\n",
       "      <th></th>\n",
       "      <th>Diagnosis</th>\n",
       "      <th>ID</th>\n",
       "      <th>Min Imaginary Part</th>\n",
       "      <th>Avg Imaginary Part</th>\n",
       "      <th>Min Real Part</th>\n",
       "      <th>Avg Real Part</th>\n",
       "      <th>Gender</th>\n",
       "      <th>Age</th>\n",
       "      <th>Smoking</th>\n",
       "    </tr>\n",
       "  </thead>\n",
       "  <tbody>\n",
       "    <tr>\n",
       "      <th>0</th>\n",
       "      <td>COPD</td>\n",
       "      <td>301-4</td>\n",
       "      <td>-320.61</td>\n",
       "      <td>-300.563531</td>\n",
       "      <td>-495.26</td>\n",
       "      <td>-464.171991</td>\n",
       "      <td>1</td>\n",
       "      <td>77</td>\n",
       "      <td>2</td>\n",
       "    </tr>\n",
       "    <tr>\n",
       "      <th>1</th>\n",
       "      <td>COPD</td>\n",
       "      <td>302-3</td>\n",
       "      <td>-325.39</td>\n",
       "      <td>-314.750360</td>\n",
       "      <td>-473.73</td>\n",
       "      <td>-469.263140</td>\n",
       "      <td>0</td>\n",
       "      <td>72</td>\n",
       "      <td>2</td>\n",
       "    </tr>\n",
       "    <tr>\n",
       "      <th>2</th>\n",
       "      <td>COPD</td>\n",
       "      <td>303-3</td>\n",
       "      <td>-323.00</td>\n",
       "      <td>-317.436056</td>\n",
       "      <td>-476.12</td>\n",
       "      <td>-471.897667</td>\n",
       "      <td>1</td>\n",
       "      <td>73</td>\n",
       "      <td>3</td>\n",
       "    </tr>\n",
       "    <tr>\n",
       "      <th>3</th>\n",
       "      <td>COPD</td>\n",
       "      <td>304-4</td>\n",
       "      <td>-327.78</td>\n",
       "      <td>-317.399670</td>\n",
       "      <td>-473.73</td>\n",
       "      <td>-468.856388</td>\n",
       "      <td>1</td>\n",
       "      <td>76</td>\n",
       "      <td>2</td>\n",
       "    </tr>\n",
       "    <tr>\n",
       "      <th>4</th>\n",
       "      <td>COPD</td>\n",
       "      <td>305-4</td>\n",
       "      <td>-325.39</td>\n",
       "      <td>-316.155785</td>\n",
       "      <td>-478.52</td>\n",
       "      <td>-472.869783</td>\n",
       "      <td>0</td>\n",
       "      <td>65</td>\n",
       "      <td>2</td>\n",
       "    </tr>\n",
       "  </tbody>\n",
       "</table>\n",
       "</div>"
      ],
      "text/plain": [
       "  Diagnosis     ID  Min Imaginary Part  Avg Imaginary Part  Min Real Part  \\\n",
       "0      COPD  301-4             -320.61         -300.563531        -495.26   \n",
       "1      COPD  302-3             -325.39         -314.750360        -473.73   \n",
       "2      COPD  303-3             -323.00         -317.436056        -476.12   \n",
       "3      COPD  304-4             -327.78         -317.399670        -473.73   \n",
       "4      COPD  305-4             -325.39         -316.155785        -478.52   \n",
       "\n",
       "   Avg Real Part  Gender  Age  Smoking  \n",
       "0    -464.171991       1   77        2  \n",
       "1    -469.263140       0   72        2  \n",
       "2    -471.897667       1   73        3  \n",
       "3    -468.856388       1   76        2  \n",
       "4    -472.869783       0   65        2  "
      ]
     },
     "execution_count": 2,
     "metadata": {},
     "output_type": "execute_result"
    }
   ],
   "source": [
    "# Read dataset file \n",
    "df = pd.read_csv('Exasens_dataset.csv')\n",
    "df.head()"
   ]
  },
  {
   "cell_type": "code",
   "execution_count": 3,
   "metadata": {},
   "outputs": [
    {
     "data": {
      "text/plain": [
       "Diagnosis               0\n",
       "ID                      0\n",
       "Min Imaginary Part    299\n",
       "Avg Imaginary Part    299\n",
       "Min Real Part         299\n",
       "Avg Real Part         299\n",
       "Gender                  0\n",
       "Age                     0\n",
       "Smoking                 0\n",
       "dtype: int64"
      ]
     },
     "execution_count": 3,
     "metadata": {},
     "output_type": "execute_result"
    }
   ],
   "source": [
    "# Check null values\n",
    "df.isnull().sum()"
   ]
  },
  {
   "cell_type": "code",
   "execution_count": 4,
   "metadata": {},
   "outputs": [
    {
     "data": {
      "text/plain": [
       "Diagnosis             0\n",
       "ID                    0\n",
       "Min Imaginary Part    0\n",
       "Avg Imaginary Part    0\n",
       "Min Real Part         0\n",
       "Avg Real Part         0\n",
       "Gender                0\n",
       "Age                   0\n",
       "Smoking               0\n",
       "dtype: int64"
      ]
     },
     "execution_count": 4,
     "metadata": {},
     "output_type": "execute_result"
    }
   ],
   "source": [
    "# Remove null values\n",
    "df = df.dropna()\n",
    "df.isnull().sum()"
   ]
  },
  {
   "cell_type": "markdown",
   "metadata": {},
   "source": [
    "## Create Machine Learning Model"
   ]
  },
  {
   "cell_type": "code",
   "execution_count": 5,
   "metadata": {},
   "outputs": [],
   "source": [
    "# Determine label and features\n",
    "label = df['Diagnosis']\n",
    "features = df.drop( ['ID', 'Diagnosis'], axis = 1)"
   ]
  },
  {
   "cell_type": "code",
   "execution_count": 6,
   "metadata": {},
   "outputs": [],
   "source": [
    "# Split data into training and testing \n",
    "X_train, X_test, y_train, y_test = train_test_split(features, label, test_size = 0.2)\n",
    "\n",
    "# Create Gradient Boosting classification model\n",
    "clf = GradientBoostingClassifier()\n",
    "\n",
    "# Train the model\n",
    "clf.fit(X_train, y_train)\n",
    "\n",
    "# Test the model\n",
    "prediction = clf.predict(X_test)\n"
   ]
  },
  {
   "cell_type": "code",
   "execution_count": 7,
   "metadata": {},
   "outputs": [
    {
     "name": "stdout",
     "output_type": "stream",
     "text": [
      "Classification Report\n",
      "              precision    recall  f1-score   support\n",
      "\n",
      "      Asthma       0.00      0.00      0.00         1\n",
      "        COPD       0.75      0.86      0.80         7\n",
      "          HC       0.83      0.83      0.83        12\n",
      "\n",
      "    accuracy                           0.80        20\n",
      "   macro avg       0.53      0.56      0.54        20\n",
      "weighted avg       0.76      0.80      0.78        20\n",
      "\n",
      "\n",
      "Confusion Matrix\n",
      "[[ 0  0  1]\n",
      " [ 0  6  1]\n",
      " [ 0  2 10]]\n"
     ]
    },
    {
     "name": "stderr",
     "output_type": "stream",
     "text": [
      "C:\\Users\\missn\\anaconda3\\lib\\site-packages\\sklearn\\metrics\\_classification.py:1272: UndefinedMetricWarning: Precision and F-score are ill-defined and being set to 0.0 in labels with no predicted samples. Use `zero_division` parameter to control this behavior.\n",
      "  _warn_prf(average, modifier, msg_start, len(result))\n"
     ]
    }
   ],
   "source": [
    "# Print classification report \n",
    "class_report = classification_report(y_test, prediction)\n",
    "print('Classification Report')\n",
    "print(class_report) \n",
    "\n",
    "print()\n",
    "\n",
    "# Print confusion matrix report\n",
    "conf_matrix = confusion_matrix(y_test, prediction)\n",
    "print('Confusion Matrix') \n",
    "print(conf_matrix) "
   ]
  }
 ],
 "metadata": {
  "kernelspec": {
   "display_name": "Python 3",
   "language": "python",
   "name": "python3"
  },
  "language_info": {
   "codemirror_mode": {
    "name": "ipython",
    "version": 3
   },
   "file_extension": ".py",
   "mimetype": "text/x-python",
   "name": "python",
   "nbconvert_exporter": "python",
   "pygments_lexer": "ipython3",
   "version": "3.7.6"
  }
 },
 "nbformat": 4,
 "nbformat_minor": 4
}
